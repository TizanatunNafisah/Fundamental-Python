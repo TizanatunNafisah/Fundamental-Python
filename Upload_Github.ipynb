{
  "nbformat": 4,
  "nbformat_minor": 0,
  "metadata": {
    "colab": {
      "name": "Upload Github.ipynb",
      "provenance": [],
      "authorship_tag": "ABX9TyPpWHC08kgeyn0559S4OLL3",
      "include_colab_link": true
    },
    "kernelspec": {
      "name": "python3",
      "display_name": "Python 3"
    },
    "language_info": {
      "name": "python"
    }
  },
  "cells": [
    {
      "cell_type": "markdown",
      "metadata": {
        "id": "view-in-github",
        "colab_type": "text"
      },
      "source": [
        "<a href=\"https://colab.research.google.com/github/jumadi-cloud/Fundamental-Python/blob/main/Upload_Github.ipynb\" target=\"_parent\"><img src=\"https://colab.research.google.com/assets/colab-badge.svg\" alt=\"Open In Colab\"/></a>"
      ]
    },
    {
      "cell_type": "markdown",
      "source": [
        "Fundamental Python"
      ],
      "metadata": {
        "id": "UvqZNjXFuDJL"
      }
    },
    {
      "cell_type": "code",
      "execution_count": 1,
      "metadata": {
        "colab": {
          "base_uri": "https://localhost:8080/"
        },
        "id": "vw537KPwt_aQ",
        "outputId": "43af5e4f-af77-47b3-a4c5-b37f73c3f3f7"
      },
      "outputs": [
        {
          "output_type": "stream",
          "name": "stdout",
          "text": [
            "hello word\n"
          ]
        }
      ],
      "source": [
        "print (\"hello word\")"
      ]
    },
    {
      "cell_type": "code",
      "source": [
        "print ('hello word')"
      ],
      "metadata": {
        "colab": {
          "base_uri": "https://localhost:8080/"
        },
        "id": "RgPjXi7OuNOS",
        "outputId": "aea4ceef-9ad4-4228-bfae-822a5daccba2"
      },
      "execution_count": 3,
      "outputs": [
        {
          "output_type": "stream",
          "name": "stdout",
          "text": [
            "hello word\n"
          ]
        }
      ]
    }
  ]
}